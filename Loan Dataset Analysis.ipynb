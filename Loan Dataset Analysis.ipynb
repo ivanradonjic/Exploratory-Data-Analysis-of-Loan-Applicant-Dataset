{
 "cells": [
  {
   "cell_type": "markdown",
   "id": "2b2d1806-34c1-4309-96d7-6c6a0d9eb407",
   "metadata": {},
   "source": [
    "**Loan Data Set Analysis Using Pandas**"
   ]
  },
  {
   "cell_type": "markdown",
   "id": "91a68aaf-eb9f-4008-aad9-fb31f03e0e11",
   "metadata": {},
   "source": [
    "Import Libraries and CSV File"
   ]
  },
  {
   "cell_type": "code",
   "execution_count": 41,
   "id": "45bed69d-2657-4d3b-bb1c-94650d0c76a0",
   "metadata": {},
   "outputs": [
    {
     "data": {
      "text/html": [
       "<div>\n",
       "<style scoped>\n",
       "    .dataframe tbody tr th:only-of-type {\n",
       "        vertical-align: middle;\n",
       "    }\n",
       "\n",
       "    .dataframe tbody tr th {\n",
       "        vertical-align: top;\n",
       "    }\n",
       "\n",
       "    .dataframe thead th {\n",
       "        text-align: right;\n",
       "    }\n",
       "</style>\n",
       "<table border=\"1\" class=\"dataframe\">\n",
       "  <thead>\n",
       "    <tr style=\"text-align: right;\">\n",
       "      <th></th>\n",
       "      <th>Gender</th>\n",
       "      <th>Married</th>\n",
       "      <th>Dependents</th>\n",
       "      <th>Education</th>\n",
       "      <th>Self_Employed</th>\n",
       "      <th>Applicant_Income</th>\n",
       "      <th>Coapplicant_Income</th>\n",
       "      <th>Loan_Amount</th>\n",
       "      <th>Term</th>\n",
       "      <th>Credit_History</th>\n",
       "      <th>Area</th>\n",
       "    </tr>\n",
       "  </thead>\n",
       "  <tbody>\n",
       "    <tr>\n",
       "      <th>0</th>\n",
       "      <td>Male</td>\n",
       "      <td>Yes</td>\n",
       "      <td>0.0</td>\n",
       "      <td>Graduate</td>\n",
       "      <td>No</td>\n",
       "      <td>572000</td>\n",
       "      <td>0</td>\n",
       "      <td>220000</td>\n",
       "      <td>360.0</td>\n",
       "      <td>1.0</td>\n",
       "      <td>Urban</td>\n",
       "    </tr>\n",
       "    <tr>\n",
       "      <th>1</th>\n",
       "      <td>Male</td>\n",
       "      <td>Yes</td>\n",
       "      <td>1.0</td>\n",
       "      <td>Graduate</td>\n",
       "      <td>No</td>\n",
       "      <td>307600</td>\n",
       "      <td>150000</td>\n",
       "      <td>252000</td>\n",
       "      <td>360.0</td>\n",
       "      <td>1.0</td>\n",
       "      <td>Urban</td>\n",
       "    </tr>\n",
       "    <tr>\n",
       "      <th>2</th>\n",
       "      <td>Male</td>\n",
       "      <td>Yes</td>\n",
       "      <td>2.0</td>\n",
       "      <td>Graduate</td>\n",
       "      <td>No</td>\n",
       "      <td>500000</td>\n",
       "      <td>180000</td>\n",
       "      <td>416000</td>\n",
       "      <td>360.0</td>\n",
       "      <td>1.0</td>\n",
       "      <td>Urban</td>\n",
       "    </tr>\n",
       "    <tr>\n",
       "      <th>3</th>\n",
       "      <td>Male</td>\n",
       "      <td>Yes</td>\n",
       "      <td>2.0</td>\n",
       "      <td>Graduate</td>\n",
       "      <td>No</td>\n",
       "      <td>234000</td>\n",
       "      <td>254600</td>\n",
       "      <td>200000</td>\n",
       "      <td>360.0</td>\n",
       "      <td>NaN</td>\n",
       "      <td>Urban</td>\n",
       "    </tr>\n",
       "    <tr>\n",
       "      <th>4</th>\n",
       "      <td>Male</td>\n",
       "      <td>No</td>\n",
       "      <td>0.0</td>\n",
       "      <td>Not Graduate</td>\n",
       "      <td>No</td>\n",
       "      <td>327600</td>\n",
       "      <td>0</td>\n",
       "      <td>156000</td>\n",
       "      <td>360.0</td>\n",
       "      <td>1.0</td>\n",
       "      <td>Urban</td>\n",
       "    </tr>\n",
       "  </tbody>\n",
       "</table>\n",
       "</div>"
      ],
      "text/plain": [
       "  Gender Married  Dependents     Education Self_Employed  Applicant_Income   \n",
       "0   Male     Yes         0.0      Graduate            No            572000  \\\n",
       "1   Male     Yes         1.0      Graduate            No            307600   \n",
       "2   Male     Yes         2.0      Graduate            No            500000   \n",
       "3   Male     Yes         2.0      Graduate            No            234000   \n",
       "4   Male      No         0.0  Not Graduate            No            327600   \n",
       "\n",
       "   Coapplicant_Income  Loan_Amount   Term  Credit_History   Area  \n",
       "0                   0       220000  360.0             1.0  Urban  \n",
       "1              150000       252000  360.0             1.0  Urban  \n",
       "2              180000       416000  360.0             1.0  Urban  \n",
       "3              254600       200000  360.0             NaN  Urban  \n",
       "4                   0       156000  360.0             1.0  Urban  "
      ]
     },
     "execution_count": 41,
     "metadata": {},
     "output_type": "execute_result"
    }
   ],
   "source": [
    "# Import Libraries\n",
    "import pandas as pd\n",
    "import matplotlib.pyplot as plt\n",
    "\n",
    "# Import Dataset and View\n",
    "df= pd.read_csv('loan.csv')\n",
    "df.head(5)"
   ]
  },
  {
   "cell_type": "markdown",
   "id": "fd871924-550d-4d3b-b9e0-d810e439dc10",
   "metadata": {},
   "source": [
    "Dataset Preprocessing"
   ]
  },
  {
   "cell_type": "code",
   "execution_count": 42,
   "id": "3d104d2d-ea32-4cab-a209-cbbfddc526cb",
   "metadata": {},
   "outputs": [
    {
     "data": {
      "text/plain": [
       "Gender                 object\n",
       "Married                object\n",
       "Dependents            float64\n",
       "Education              object\n",
       "Self_Employed          object\n",
       "Applicant_Income        int64\n",
       "Coapplicant_Income      int64\n",
       "Loan_Amount             int64\n",
       "Term                  float64\n",
       "Credit_History        float64\n",
       "Area                   object\n",
       "dtype: object"
      ]
     },
     "execution_count": 42,
     "metadata": {},
     "output_type": "execute_result"
    }
   ],
   "source": [
    "# View data types for each column\n",
    "df.dtypes"
   ]
  },
  {
   "cell_type": "code",
   "execution_count": 43,
   "id": "6ccd28ed-ac4d-4291-9656-4545b22fba33",
   "metadata": {},
   "outputs": [
    {
     "data": {
      "text/plain": [
       "0      1.0\n",
       "1      1.0\n",
       "2      1.0\n",
       "3      0.0\n",
       "4      1.0\n",
       "      ... \n",
       "362    1.0\n",
       "363    1.0\n",
       "364    0.0\n",
       "365    1.0\n",
       "366    1.0\n",
       "Name: Credit_History, Length: 367, dtype: float64"
      ]
     },
     "execution_count": 43,
     "metadata": {},
     "output_type": "execute_result"
    }
   ],
   "source": [
    "# Change all NaN values in Credit History to 0\n",
    "# 1.0 represents a Credit History meeting a specificed criteria\n",
    "# 0.0 represents a Credit History as not meeting a specified criteria or no Credit History\n",
    "df['Credit_History'].fillna(0, inplace = True)\n",
    "df['Credit_History']"
   ]
  },
  {
   "cell_type": "code",
   "execution_count": 44,
   "id": "feb214e7-4d72-419a-ab9e-1e16cdc4aee5",
   "metadata": {},
   "outputs": [
    {
     "data": {
      "text/html": [
       "<div>\n",
       "<style scoped>\n",
       "    .dataframe tbody tr th:only-of-type {\n",
       "        vertical-align: middle;\n",
       "    }\n",
       "\n",
       "    .dataframe tbody tr th {\n",
       "        vertical-align: top;\n",
       "    }\n",
       "\n",
       "    .dataframe thead th {\n",
       "        text-align: right;\n",
       "    }\n",
       "</style>\n",
       "<table border=\"1\" class=\"dataframe\">\n",
       "  <thead>\n",
       "    <tr style=\"text-align: right;\">\n",
       "      <th></th>\n",
       "      <th>Gender</th>\n",
       "      <th>Married</th>\n",
       "      <th>Dependents</th>\n",
       "      <th>Education</th>\n",
       "      <th>Self Employed</th>\n",
       "      <th>Applicant Income</th>\n",
       "      <th>Coapplicant Income</th>\n",
       "      <th>Loan Amount</th>\n",
       "      <th>Term</th>\n",
       "      <th>Credit History</th>\n",
       "      <th>Area</th>\n",
       "    </tr>\n",
       "  </thead>\n",
       "  <tbody>\n",
       "    <tr>\n",
       "      <th>0</th>\n",
       "      <td>Male</td>\n",
       "      <td>Yes</td>\n",
       "      <td>0.0</td>\n",
       "      <td>Graduate</td>\n",
       "      <td>No</td>\n",
       "      <td>572000</td>\n",
       "      <td>0</td>\n",
       "      <td>220000</td>\n",
       "      <td>360.0</td>\n",
       "      <td>1.0</td>\n",
       "      <td>Urban</td>\n",
       "    </tr>\n",
       "    <tr>\n",
       "      <th>1</th>\n",
       "      <td>Male</td>\n",
       "      <td>Yes</td>\n",
       "      <td>1.0</td>\n",
       "      <td>Graduate</td>\n",
       "      <td>No</td>\n",
       "      <td>307600</td>\n",
       "      <td>150000</td>\n",
       "      <td>252000</td>\n",
       "      <td>360.0</td>\n",
       "      <td>1.0</td>\n",
       "      <td>Urban</td>\n",
       "    </tr>\n",
       "    <tr>\n",
       "      <th>2</th>\n",
       "      <td>Male</td>\n",
       "      <td>Yes</td>\n",
       "      <td>2.0</td>\n",
       "      <td>Graduate</td>\n",
       "      <td>No</td>\n",
       "      <td>500000</td>\n",
       "      <td>180000</td>\n",
       "      <td>416000</td>\n",
       "      <td>360.0</td>\n",
       "      <td>1.0</td>\n",
       "      <td>Urban</td>\n",
       "    </tr>\n",
       "    <tr>\n",
       "      <th>3</th>\n",
       "      <td>Male</td>\n",
       "      <td>Yes</td>\n",
       "      <td>2.0</td>\n",
       "      <td>Graduate</td>\n",
       "      <td>No</td>\n",
       "      <td>234000</td>\n",
       "      <td>254600</td>\n",
       "      <td>200000</td>\n",
       "      <td>360.0</td>\n",
       "      <td>0.0</td>\n",
       "      <td>Urban</td>\n",
       "    </tr>\n",
       "    <tr>\n",
       "      <th>4</th>\n",
       "      <td>Male</td>\n",
       "      <td>No</td>\n",
       "      <td>0.0</td>\n",
       "      <td>Not Graduate</td>\n",
       "      <td>No</td>\n",
       "      <td>327600</td>\n",
       "      <td>0</td>\n",
       "      <td>156000</td>\n",
       "      <td>360.0</td>\n",
       "      <td>1.0</td>\n",
       "      <td>Urban</td>\n",
       "    </tr>\n",
       "  </tbody>\n",
       "</table>\n",
       "</div>"
      ],
      "text/plain": [
       "  Gender Married  Dependents     Education Self Employed  Applicant Income   \n",
       "0   Male     Yes         0.0      Graduate            No            572000  \\\n",
       "1   Male     Yes         1.0      Graduate            No            307600   \n",
       "2   Male     Yes         2.0      Graduate            No            500000   \n",
       "3   Male     Yes         2.0      Graduate            No            234000   \n",
       "4   Male      No         0.0  Not Graduate            No            327600   \n",
       "\n",
       "   Coapplicant Income  Loan Amount   Term  Credit History   Area  \n",
       "0                   0       220000  360.0             1.0  Urban  \n",
       "1              150000       252000  360.0             1.0  Urban  \n",
       "2              180000       416000  360.0             1.0  Urban  \n",
       "3              254600       200000  360.0             0.0  Urban  \n",
       "4                   0       156000  360.0             1.0  Urban  "
      ]
     },
     "execution_count": 44,
     "metadata": {},
     "output_type": "execute_result"
    }
   ],
   "source": [
    "# Change column names \n",
    "df.rename(columns = {'Self_Employed':'Self Employed', 'Applicant_Income':'Applicant Income', 'Coapplicant_Income':'Coapplicant Income', 'Loan_Amount':'Loan Amount', 'Credit_History':'Credit History'} , inplace = True)\n",
    "df.head(5)"
   ]
  },
  {
   "cell_type": "code",
   "execution_count": 45,
   "id": "e6ed2679-15bc-40ef-818a-5191d832cb92",
   "metadata": {},
   "outputs": [
    {
     "data": {
      "text/html": [
       "<div>\n",
       "<style scoped>\n",
       "    .dataframe tbody tr th:only-of-type {\n",
       "        vertical-align: middle;\n",
       "    }\n",
       "\n",
       "    .dataframe tbody tr th {\n",
       "        vertical-align: top;\n",
       "    }\n",
       "\n",
       "    .dataframe thead th {\n",
       "        text-align: right;\n",
       "    }\n",
       "</style>\n",
       "<table border=\"1\" class=\"dataframe\">\n",
       "  <thead>\n",
       "    <tr style=\"text-align: right;\">\n",
       "      <th></th>\n",
       "      <th>Gender</th>\n",
       "      <th>Married</th>\n",
       "      <th>Dependents</th>\n",
       "      <th>Education</th>\n",
       "      <th>Self Employed</th>\n",
       "      <th>Applicant Income</th>\n",
       "      <th>Coapplicant Income</th>\n",
       "      <th>Loan Amount</th>\n",
       "      <th>Term</th>\n",
       "      <th>Credit History</th>\n",
       "      <th>Area</th>\n",
       "      <th>Household Income</th>\n",
       "    </tr>\n",
       "  </thead>\n",
       "  <tbody>\n",
       "    <tr>\n",
       "      <th>0</th>\n",
       "      <td>Male</td>\n",
       "      <td>Yes</td>\n",
       "      <td>0.0</td>\n",
       "      <td>Graduate</td>\n",
       "      <td>No</td>\n",
       "      <td>572000</td>\n",
       "      <td>0</td>\n",
       "      <td>220000</td>\n",
       "      <td>360.0</td>\n",
       "      <td>1.0</td>\n",
       "      <td>Urban</td>\n",
       "      <td>572000</td>\n",
       "    </tr>\n",
       "    <tr>\n",
       "      <th>1</th>\n",
       "      <td>Male</td>\n",
       "      <td>Yes</td>\n",
       "      <td>1.0</td>\n",
       "      <td>Graduate</td>\n",
       "      <td>No</td>\n",
       "      <td>307600</td>\n",
       "      <td>150000</td>\n",
       "      <td>252000</td>\n",
       "      <td>360.0</td>\n",
       "      <td>1.0</td>\n",
       "      <td>Urban</td>\n",
       "      <td>457600</td>\n",
       "    </tr>\n",
       "    <tr>\n",
       "      <th>2</th>\n",
       "      <td>Male</td>\n",
       "      <td>Yes</td>\n",
       "      <td>2.0</td>\n",
       "      <td>Graduate</td>\n",
       "      <td>No</td>\n",
       "      <td>500000</td>\n",
       "      <td>180000</td>\n",
       "      <td>416000</td>\n",
       "      <td>360.0</td>\n",
       "      <td>1.0</td>\n",
       "      <td>Urban</td>\n",
       "      <td>680000</td>\n",
       "    </tr>\n",
       "    <tr>\n",
       "      <th>3</th>\n",
       "      <td>Male</td>\n",
       "      <td>Yes</td>\n",
       "      <td>2.0</td>\n",
       "      <td>Graduate</td>\n",
       "      <td>No</td>\n",
       "      <td>234000</td>\n",
       "      <td>254600</td>\n",
       "      <td>200000</td>\n",
       "      <td>360.0</td>\n",
       "      <td>0.0</td>\n",
       "      <td>Urban</td>\n",
       "      <td>488600</td>\n",
       "    </tr>\n",
       "    <tr>\n",
       "      <th>4</th>\n",
       "      <td>Male</td>\n",
       "      <td>No</td>\n",
       "      <td>0.0</td>\n",
       "      <td>Not Graduate</td>\n",
       "      <td>No</td>\n",
       "      <td>327600</td>\n",
       "      <td>0</td>\n",
       "      <td>156000</td>\n",
       "      <td>360.0</td>\n",
       "      <td>1.0</td>\n",
       "      <td>Urban</td>\n",
       "      <td>327600</td>\n",
       "    </tr>\n",
       "  </tbody>\n",
       "</table>\n",
       "</div>"
      ],
      "text/plain": [
       "  Gender Married  Dependents     Education Self Employed  Applicant Income   \n",
       "0   Male     Yes         0.0      Graduate            No            572000  \\\n",
       "1   Male     Yes         1.0      Graduate            No            307600   \n",
       "2   Male     Yes         2.0      Graduate            No            500000   \n",
       "3   Male     Yes         2.0      Graduate            No            234000   \n",
       "4   Male      No         0.0  Not Graduate            No            327600   \n",
       "\n",
       "   Coapplicant Income  Loan Amount   Term  Credit History   Area   \n",
       "0                   0       220000  360.0             1.0  Urban  \\\n",
       "1              150000       252000  360.0             1.0  Urban   \n",
       "2              180000       416000  360.0             1.0  Urban   \n",
       "3              254600       200000  360.0             0.0  Urban   \n",
       "4                   0       156000  360.0             1.0  Urban   \n",
       "\n",
       "   Household Income  \n",
       "0            572000  \n",
       "1            457600  \n",
       "2            680000  \n",
       "3            488600  \n",
       "4            327600  "
      ]
     },
     "execution_count": 45,
     "metadata": {},
     "output_type": "execute_result"
    }
   ],
   "source": [
    "# Create column to represent the entire Household Income\n",
    "df['Household Income'] = 0\n",
    "df['Household Income'] = df['Applicant Income'] + df['Coapplicant Income']\n",
    "df.head(5)"
   ]
  },
  {
   "cell_type": "code",
   "execution_count": 46,
   "id": "5de7de7f-06c4-4db6-afe1-6e765531dc91",
   "metadata": {},
   "outputs": [],
   "source": [
    "# Create Debt to Income Ratio & Risk Level column to help assess Loan Approval\n",
    "\n",
    "#Debt to Income Ratio\n",
    "# Calculate Total Monthly Debt\n",
    "df['Total Yearly Debt'] = df['Loan Amount'] / (df['Term'] / 12)\n",
    "\n",
    "# Calculate Debt to Income Ratio\n",
    "df['Debt to Income Ratio'] = df['Total Yearly Debt'] / (df['Household Income'])\n",
    "\n",
    "#Risk Level Assessment\n",
    "df['Risk Level'] = 'Low'\n",
    "df.loc[(df['Credit History'] < 0.5) | (df['Debt to Income Ratio'] > 0.3), 'Risk Level'] = 'High'\n",
    "df.loc[(df['Credit History'] >= 0.5) & (df['Debt to Income Ratio'] <= 0.3), 'Risk Level'] = 'Medium'"
   ]
  },
  {
   "cell_type": "code",
   "execution_count": 47,
   "id": "fd800d10-e748-41b0-bea0-fae39cca4e22",
   "metadata": {},
   "outputs": [
    {
     "data": {
      "text/plain": [
       "Gender                   object\n",
       "Married                  object\n",
       "Dependents              float64\n",
       "Education                object\n",
       "Self Employed            object\n",
       "Applicant Income          int64\n",
       "Coapplicant Income        int64\n",
       "Loan Amount               int64\n",
       "Term                    float64\n",
       "Credit History          float64\n",
       "Area                     object\n",
       "Household Income          int64\n",
       "Total Yearly Debt       float64\n",
       "Debt to Income Ratio    float64\n",
       "Risk Level               object\n",
       "dtype: object"
      ]
     },
     "execution_count": 47,
     "metadata": {},
     "output_type": "execute_result"
    }
   ],
   "source": [
    "df.dtypes"
   ]
  },
  {
   "cell_type": "code",
   "execution_count": 48,
   "id": "2ab338c8-aac2-45ab-ba6e-1b3b89d769a8",
   "metadata": {},
   "outputs": [
    {
     "data": {
      "text/html": [
       "<div>\n",
       "<style scoped>\n",
       "    .dataframe tbody tr th:only-of-type {\n",
       "        vertical-align: middle;\n",
       "    }\n",
       "\n",
       "    .dataframe tbody tr th {\n",
       "        vertical-align: top;\n",
       "    }\n",
       "\n",
       "    .dataframe thead th {\n",
       "        text-align: right;\n",
       "    }\n",
       "</style>\n",
       "<table border=\"1\" class=\"dataframe\">\n",
       "  <thead>\n",
       "    <tr style=\"text-align: right;\">\n",
       "      <th></th>\n",
       "      <th>Gender</th>\n",
       "      <th>Married</th>\n",
       "      <th>Dependents</th>\n",
       "      <th>Education</th>\n",
       "      <th>Self Employed</th>\n",
       "      <th>Applicant Income</th>\n",
       "      <th>Coapplicant Income</th>\n",
       "      <th>Loan Amount</th>\n",
       "      <th>Term</th>\n",
       "      <th>Credit History</th>\n",
       "      <th>Area</th>\n",
       "      <th>Household Income</th>\n",
       "      <th>Total Yearly Debt</th>\n",
       "      <th>Debt to Income Ratio</th>\n",
       "      <th>Risk Level</th>\n",
       "    </tr>\n",
       "  </thead>\n",
       "  <tbody>\n",
       "    <tr>\n",
       "      <th>0</th>\n",
       "      <td>Male</td>\n",
       "      <td>Yes</td>\n",
       "      <td>0.0</td>\n",
       "      <td>Graduate</td>\n",
       "      <td>No</td>\n",
       "      <td>572000</td>\n",
       "      <td>0</td>\n",
       "      <td>220000</td>\n",
       "      <td>360.0</td>\n",
       "      <td>1.0</td>\n",
       "      <td>Urban</td>\n",
       "      <td>572000</td>\n",
       "      <td>7333.333333</td>\n",
       "      <td>0.012821</td>\n",
       "      <td>Medium</td>\n",
       "    </tr>\n",
       "    <tr>\n",
       "      <th>1</th>\n",
       "      <td>Male</td>\n",
       "      <td>Yes</td>\n",
       "      <td>1.0</td>\n",
       "      <td>Graduate</td>\n",
       "      <td>No</td>\n",
       "      <td>307600</td>\n",
       "      <td>150000</td>\n",
       "      <td>252000</td>\n",
       "      <td>360.0</td>\n",
       "      <td>1.0</td>\n",
       "      <td>Urban</td>\n",
       "      <td>457600</td>\n",
       "      <td>8400.000000</td>\n",
       "      <td>0.018357</td>\n",
       "      <td>Medium</td>\n",
       "    </tr>\n",
       "    <tr>\n",
       "      <th>2</th>\n",
       "      <td>Male</td>\n",
       "      <td>Yes</td>\n",
       "      <td>2.0</td>\n",
       "      <td>Graduate</td>\n",
       "      <td>No</td>\n",
       "      <td>500000</td>\n",
       "      <td>180000</td>\n",
       "      <td>416000</td>\n",
       "      <td>360.0</td>\n",
       "      <td>1.0</td>\n",
       "      <td>Urban</td>\n",
       "      <td>680000</td>\n",
       "      <td>13866.666667</td>\n",
       "      <td>0.020392</td>\n",
       "      <td>Medium</td>\n",
       "    </tr>\n",
       "    <tr>\n",
       "      <th>3</th>\n",
       "      <td>Male</td>\n",
       "      <td>Yes</td>\n",
       "      <td>2.0</td>\n",
       "      <td>Graduate</td>\n",
       "      <td>No</td>\n",
       "      <td>234000</td>\n",
       "      <td>254600</td>\n",
       "      <td>200000</td>\n",
       "      <td>360.0</td>\n",
       "      <td>0.0</td>\n",
       "      <td>Urban</td>\n",
       "      <td>488600</td>\n",
       "      <td>6666.666667</td>\n",
       "      <td>0.013644</td>\n",
       "      <td>High</td>\n",
       "    </tr>\n",
       "    <tr>\n",
       "      <th>4</th>\n",
       "      <td>Male</td>\n",
       "      <td>No</td>\n",
       "      <td>0.0</td>\n",
       "      <td>Not Graduate</td>\n",
       "      <td>No</td>\n",
       "      <td>327600</td>\n",
       "      <td>0</td>\n",
       "      <td>156000</td>\n",
       "      <td>360.0</td>\n",
       "      <td>1.0</td>\n",
       "      <td>Urban</td>\n",
       "      <td>327600</td>\n",
       "      <td>5200.000000</td>\n",
       "      <td>0.015873</td>\n",
       "      <td>Medium</td>\n",
       "    </tr>\n",
       "  </tbody>\n",
       "</table>\n",
       "</div>"
      ],
      "text/plain": [
       "  Gender Married  Dependents     Education Self Employed  Applicant Income   \n",
       "0   Male     Yes         0.0      Graduate            No            572000  \\\n",
       "1   Male     Yes         1.0      Graduate            No            307600   \n",
       "2   Male     Yes         2.0      Graduate            No            500000   \n",
       "3   Male     Yes         2.0      Graduate            No            234000   \n",
       "4   Male      No         0.0  Not Graduate            No            327600   \n",
       "\n",
       "   Coapplicant Income  Loan Amount   Term  Credit History   Area   \n",
       "0                   0       220000  360.0             1.0  Urban  \\\n",
       "1              150000       252000  360.0             1.0  Urban   \n",
       "2              180000       416000  360.0             1.0  Urban   \n",
       "3              254600       200000  360.0             0.0  Urban   \n",
       "4                   0       156000  360.0             1.0  Urban   \n",
       "\n",
       "   Household Income  Total Yearly Debt  Debt to Income Ratio Risk Level  \n",
       "0            572000        7333.333333              0.012821     Medium  \n",
       "1            457600        8400.000000              0.018357     Medium  \n",
       "2            680000       13866.666667              0.020392     Medium  \n",
       "3            488600        6666.666667              0.013644       High  \n",
       "4            327600        5200.000000              0.015873     Medium  "
      ]
     },
     "execution_count": 48,
     "metadata": {},
     "output_type": "execute_result"
    }
   ],
   "source": [
    "df.head(5)"
   ]
  },
  {
   "cell_type": "code",
   "execution_count": 49,
   "id": "1dfbe2fc-6d6f-4b8a-99e9-d50c43f036b6",
   "metadata": {},
   "outputs": [
    {
     "name": "stdout",
     "output_type": "stream",
     "text": [
      "Number of Loans Approved: 278\n",
      "Number of Loans not Approved: 89\n",
      "The percentage of loans that were approved: 75.74931880108991%\n"
     ]
    }
   ],
   "source": [
    "# Create a column to represent Loan Approval Status\n",
    "\n",
    "# Threshold\n",
    "credit_history_threshold = 0.5\n",
    "dti_ratio_threshold = 0.3\n",
    "# Risk Level must be Low or Medium\n",
    "\n",
    "# Calculate Loan Approval Column\n",
    "df['Approval Status'] = 'No'\n",
    "df.loc[((df['Credit History'] > credit_history_threshold) | (df['Debt to Income Ratio'] > dti_ratio_threshold)) & (df['Risk Level'] != 'High'), \n",
    "'Approval Status'] = 'Yes'\n",
    "\n",
    "# Calculate number of Loans Approved and not\n",
    "loan_approved = len(df.loc[df['Approval Status'] == 'Yes'])\n",
    "loan_not_approved = len(df.loc[df['Approval Status'] == 'No'])\n",
    "\n",
    "print(f\"Number of Loans Approved: {loan_approved}\")\n",
    "print(f\"Number of Loans not Approved: {loan_not_approved}\")\n",
    "\n",
    "# Calculate percentage of Approved Loans\n",
    "percentage_approved = (loan_approved/(loan_approved + loan_not_approved))*100\n",
    "print(f\"The percentage of loans that were approved: {percentage_approved}%\")"
   ]
  },
  {
   "cell_type": "markdown",
   "id": "ae2b7c2c-79d2-46fe-94ae-258911178034",
   "metadata": {},
   "source": [
    "**Dataset Analysis**"
   ]
  },
  {
   "cell_type": "markdown",
   "id": "66719807-c8be-442d-9002-1bc894436678",
   "metadata": {},
   "source": [
    "Plotting"
   ]
  },
  {
   "cell_type": "code",
   "execution_count": 50,
   "id": "8cda537c-bb90-46b7-846d-c5494cf2917b",
   "metadata": {},
   "outputs": [
    {
     "name": "stdout",
     "output_type": "stream",
     "text": [
      "Output \n",
      "Education\n",
      "Graduate        516994.346290\n",
      "Not Graduate    357810.714286\n",
      "Name: Applicant Income, dtype: float64\n"
     ]
    },
    {
     "data": {
      "image/png": "[encoded data removed]",
      "text/plain": [
       "<Figure size 640x480 with 1 Axes>"
      ]
     },
     "metadata": {},
     "output_type": "display_data"
    }
   ],
   "source": [
    "#1. What is the average 'Applicant Income' of individuals grouped by their 'Education' level?\n",
    "avg_inc_by_ed = df.groupby('Education')['Applicant Income'].mean()\n",
    "print(f\"Output \\n{avg_inc_by_ed}\")\n",
    "\n",
    "# Plot\n",
    "avg_inc_by_ed.plot(kind = 'bar')\n",
    "plt.title(\"Average Applicant Income by Education Level\")\n",
    "plt.xlabel(\"Education Level\")\n",
    "plt.xticks(rotation=0)\n",
    "plt.ylabel(\"Average Applicant Income USD\")\n",
    "plt.show()"
   ]
  },
  {
   "cell_type": "code",
   "execution_count": 51,
   "id": "465ebbb0-a25c-4b31-8e91-eaaee08b3001",
   "metadata": {},
   "outputs": [
    {
     "name": "stdout",
     "output_type": "stream",
     "text": [
      "Output \n",
      "Area\n",
      "Rural         82\n",
      "Semiurban     84\n",
      "Urban        112\n",
      "dtype: int64\n"
     ]
    },
    {
     "data": {
      "image/png": "[encoded data removed]",
      "text/plain": [
       "<Figure size 640x480 with 1 Axes>"
      ]
     },
     "metadata": {},
     "output_type": "display_data"
    }
   ],
   "source": [
    "#2. How many individuals in each 'Area' have been approved for a loan?\n",
    "loan_app_by_area = df.loc[df['Approval Status'] == 'Yes'].groupby('Area').size()\n",
    "print(f\"Output \\n{loan_app_by_area}\")\n",
    "\n",
    "# Plot\n",
    "loan_app_by_area.plot(kind = 'bar')\n",
    "plt.title(\"Loan Approval by Area\")\n",
    "plt.xlabel(\"Area\")\n",
    "plt.xticks(rotation=0)\n",
    "plt.ylabel(\"Number of Approved Loans\")\n",
    "plt.show()"
   ]
  },
  {
   "cell_type": "code",
   "execution_count": 52,
   "id": "189a694c-805c-4d35-a7a8-2412b39b1aed",
   "metadata": {},
   "outputs": [
    {
     "name": "stdout",
     "output_type": "stream",
     "text": [
      "Output \n",
      "Education\n",
      "Graduate        182\n",
      "Not Graduate     54\n",
      "Name: Approval Status, dtype: int64\n"
     ]
    },
    {
     "data": {
      "image/png": "[encoded data removed]",
      "text/plain": [
       "<Figure size 640x480 with 1 Axes>"
      ]
     },
     "metadata": {},
     "output_type": "display_data"
    }
   ],
   "source": [
    "\n",
    "\n",
    "\n",
    "\n",
    "#3. How many individuals in each 'Education' level have been approved for a loan and have a 'Term' of 360?\n",
    "app_loans_term_360_by_ed = df.loc[(df['Approval Status'] == 'Yes') & (df['Term'] == 360.0)].groupby('Education')['Approval Status'].count()\n",
    "print(f\"Output \\n{app_loans_term_360_by_ed}\")\n",
    "\n",
    "# Plot\n",
    "app_loans_term_360_by_ed.plot(kind = 'bar')\n",
    "plt.title(\"Loan Approval with a Term of 360 Months by Education\")\n",
    "plt.xlabel(\"Education Level\")\n",
    "plt.xticks(rotation=0)\n",
    "plt.ylabel(\"Number of Approved Loans with a Term of 360 Months\")\n",
    "plt.show()"
   ]
  },
  {
   "cell_type": "code",
   "execution_count": 53,
   "id": "17ffa875-19c5-4691-bb00-7832efcec8f9",
   "metadata": {},
   "outputs": [
    {
     "name": "stdout",
     "output_type": "stream",
     "text": [
      "Output \n",
      "Area\n",
      "Rural        2400000\n",
      "Semiurban    3200000\n",
      "Urban        7252900\n",
      "Name: Household Income, dtype: int64\n"
     ]
    },
    {
     "data": {
      "image/png": "[encoded data removed]",
      "text/plain": [
       "<Figure size 640x480 with 1 Axes>"
      ]
     },
     "metadata": {},
     "output_type": "display_data"
    }
   ],
   "source": [
    "#4. What is the maximum 'Household Income' in each 'Area'?\n",
    "household_inc_by_area = df.groupby('Area')['Household Income'].max()\n",
    "print(f\"Output \\n{household_inc_by_area}\")\n",
    "\n",
    "# Plot\n",
    "household_inc_by_area.plot(kind = 'bar')\n",
    "plt.title(\"Maximum Household Income by Area\")\n",
    "plt.xlabel(\"Area\")\n",
    "plt.xticks(rotation=0)\n",
    "plt.ylabel(\"Maximum Household Income USD\")\n",
    "plt.ticklabel_format(style='plain', axis='y')\n",
    "plt.show()"
   ]
  },
  {
   "cell_type": "code",
   "execution_count": 54,
   "id": "17cdcd3a-869b-4872-8bcf-8607926f4eda",
   "metadata": {},
   "outputs": [
    {
     "name": "stdout",
     "output_type": "stream",
     "text": [
      "Output: Area\n",
      "Rural        22\n",
      "Semiurban    20\n",
      "Urban        27\n",
      "dtype: int64\n"
     ]
    },
    {
     "data": {
      "image/png": "[encoded data removed]",
      "text/plain": [
       "<Figure size 640x480 with 1 Axes>"
      ]
     },
     "metadata": {},
     "output_type": "display_data"
    }
   ],
   "source": [
    "#5.  How many individuals in each 'Area' have a 'Loan Amount' greater than the 75th percentile of 'Loan Amount' and a 'Credit History' of 1.0?\n",
    "\n",
    "# Calculate Percentiles\n",
    "loan_75 = df['Loan Amount'].quantile(q = 0.75)\n",
    "\n",
    "# Filter\n",
    "num_ind = df.loc[(df['Loan Amount'] > loan_75) & (df['Credit History'] == 1.0)].groupby('Area').size()\n",
    "print(f\"Output: {num_ind}\")\n",
    "\n",
    "# Plot\n",
    "num_ind.plot(kind = 'bar')\n",
    "plt.title(\"Number of Individuals with a Loan Amount greater than 75th percentile and Credit History of 1 by Area\")\n",
    "plt.xlabel(\"Area\")\n",
    "plt.xticks(rotation=0)\n",
    "plt.ylabel(\"Number of Individuals\")\n",
    "plt.ticklabel_format(style='plain', axis='y')\n",
    "plt.show()"
   ]
  },
  {
   "cell_type": "code",
   "execution_count": 55,
   "id": "182eac99-3998-478d-91c1-e610c3f131c0",
   "metadata": {},
   "outputs": [
    {
     "name": "stdout",
     "output_type": "stream",
     "text": [
      "Output: \n",
      "Term\n",
      "12.0     0.477502\n",
      "180.0    0.021823\n",
      "240.0    0.015223\n",
      "300.0    0.039199\n",
      "360.0    0.025804\n",
      "480.0    0.006203\n",
      "Name: Debt to Income Ratio, dtype: float64\n"
     ]
    },
    {
     "data": {
      "image/png": "[encoded data removed]",
      "text/plain": [
       "<Figure size 640x480 with 1 Axes>"
      ]
     },
     "metadata": {},
     "output_type": "display_data"
    }
   ],
   "source": [
    "#6. Among self-employed applicants, what is the maximum 'Debt to Income Ratio' for each term length?\n",
    "self_emp_dti_by_term = df.loc[df['Self Employed'] == 'Yes'].groupby('Term')['Debt to Income Ratio'].max()\n",
    "print(f\"Output: \\n{self_emp_dti_by_term}\")\n",
    "\n",
    "# Plot\n",
    "self_emp_dti_by_term.plot(kind = 'bar')\n",
    "plt.title(\"Maximum Debt to Income Ratio by Term length for Self-Employed Individuals\")\n",
    "plt.xlabel(\"Term Length (Months)\")\n",
    "plt.xticks(rotation=0)\n",
    "plt.ylabel(\"Max Debt to Income Ratio\")\n",
    "plt.ticklabel_format(style='plain', axis='y')\n",
    "plt.show()"
   ]
  },
  {
   "cell_type": "markdown",
   "id": "d613212b-4097-4220-b0b1-603959a0df84",
   "metadata": {},
   "source": [
    "Filtering"
   ]
  },
  {
   "cell_type": "code",
   "execution_count": 56,
   "id": "789d9b3b-be50-4d27-866b-d08a2d5fc683",
   "metadata": {},
   "outputs": [
    {
     "name": "stdout",
     "output_type": "stream",
     "text": [
      "Output: 194 Individuals\n"
     ]
    }
   ],
   "source": [
    "#7. How many individuals have a 'Dependents' count of 0 and a 'Loan Amount' less than 500000?\n",
    "num_ind = len(df.loc[(df['Dependents'] == 0) & (df['Loan Amount'] < 500000)])\n",
    "print(f\"Output: {num_ind} Individuals\")"
   ]
  },
  {
   "cell_type": "code",
   "execution_count": 57,
   "id": "d36c57d6-4ef3-4c44-8db9-a4a018bad469",
   "metadata": {},
   "outputs": [
    {
     "name": "stdout",
     "output_type": "stream",
     "text": [
      "Output: $142303.43347639486\n"
     ]
    }
   ],
   "source": [
    "#8. What is the average 'Coapplicant Income' for individuals who are not self-employed and have a 'Credit History' of 1.0?\n",
    "avg_coapp_inc = df.loc[(df['Self Employed'] == 'No') & (df['Credit History'] == 1.0)]['Coapplicant Income'].mean()\n",
    "print(f\"Output: ${avg_coapp_inc}\")"
   ]
  },
  {
   "cell_type": "code",
   "execution_count": 58,
   "id": "70a6616a-d1f1-4ada-82eb-1271c35d5beb",
   "metadata": {},
   "outputs": [
    {
     "name": "stdout",
     "output_type": "stream",
     "text": [
      "Output: $570500.0\n"
     ]
    }
   ],
   "source": [
    "#9. What is the median 'Household Income' for individuals with 'Dependents' greater than 0 and a 'Term' of 360?\n",
    "med_household_inc = df.loc[(df['Dependents'] > 0) & (df['Term'] == 360.0)]['Household Income'].median()\n",
    "print(f\"Output: ${med_household_inc}\")"
   ]
  },
  {
   "cell_type": "code",
   "execution_count": 59,
   "id": "323e6bf6-89c6-447d-9ad3-e5164a66e044",
   "metadata": {},
   "outputs": [
    {
     "name": "stdout",
     "output_type": "stream",
     "text": [
      "Output: $920000\n"
     ]
    }
   ],
   "source": [
    "#10. What is the maximum 'Loan Amount' for individuals who are not self-employed and have a 'Credit History' of 1.0?\n",
    "max_loan_amount = df.loc[(df['Self Employed'] == 'No') & (df['Credit History'] == 1.0)]['Loan Amount'].max()\n",
    "print(f\"Output: ${max_loan_amount}\")"
   ]
  },
  {
   "cell_type": "code",
   "execution_count": 60,
   "id": "67ef026a-8f96-4a55-8a30-567adc80301b",
   "metadata": {},
   "outputs": [
    {
     "name": "stdout",
     "output_type": "stream",
     "text": [
      "Output: $777361.4525139665\n"
     ]
    }
   ],
   "source": [
    "#11. What is the average 'Household Income' for individuals who have a 'Loan Amount' greater than the median 'Loan Amount' in the dataset?\n",
    "\n",
    "#Median Loan Amount\n",
    "median_loan = df['Loan Amount'].median()\n",
    "#Filter\n",
    "avg_household_inc_above_median = df.loc[df['Loan Amount'] > median_loan]['Household Income'].mean()\n",
    "print(f\"Output: ${avg_household_inc_above_median}\")"
   ]
  },
  {
   "cell_type": "code",
   "execution_count": 61,
   "id": "3868d9d7-80b0-4512-a866-01b428b17a03",
   "metadata": {},
   "outputs": [
    {
     "name": "stdout",
     "output_type": "stream",
     "text": [
      "Output: 28 Individuals\n"
     ]
    }
   ],
   "source": [
    "#12. How many individuals have an 'Applicant Income' greater than the mean 'Applicant Income' and a 'Loan Amount' less than the median 'Loan Amount'?\n",
    "\n",
    "# Calculate Mean and Median Values\n",
    "app_mean = df['Applicant Income'].mean()\n",
    "loan_med = df['Loan Amount'].median()\n",
    "\n",
    "#Filter\n",
    "num_ind = len(df.loc[(df['Applicant Income'] > app_mean) & (df['Loan Amount'] < loan_med)])\n",
    "print(f\"Output: {num_ind} Individuals\")"
   ]
  },
  {
   "cell_type": "code",
   "execution_count": 62,
   "id": "cb2f0700-53a1-4622-a99c-83275f68229f",
   "metadata": {},
   "outputs": [
    {
     "name": "stdout",
     "output_type": "stream",
     "text": [
      "Output: $561300.0\n"
     ]
    }
   ],
   "source": [
    "#13. What is the median 'Household Income' for individuals with 'Dependents' greater than or equal to 2 and a 'Term' of 360?\n",
    "med_household_inc = df.loc[(df['Dependents'] >= 2) & (df['Term'] == 360.0)]['Household Income'].median()\n",
    "print(f\"Output: ${med_household_inc}\")"
   ]
  },
  {
   "cell_type": "code",
   "execution_count": 63,
   "id": "ebd49b5d-05fc-4067-86b4-faed76595cea",
   "metadata": {},
   "outputs": [
    {
     "name": "stdout",
     "output_type": "stream",
     "text": [
      "Output: 0.016909347111319868\n"
     ]
    }
   ],
   "source": [
    "#14. What is the median 'Debt to Income Ratio' ratio for individuals who are not self-employed and have a 'Credit History' of 1.0?\n",
    "med_dti = df.loc[(df['Self Employed'] == 'No') & (df['Credit History'] == 1.0)]['Debt to Income Ratio'].median()\n",
    "print(f\"Output: {med_dti}\")"
   ]
  },
  {
   "cell_type": "code",
   "execution_count": 64,
   "id": "462c5fd6-40c1-4d67-bdf0-e4640f2a6a01",
   "metadata": {},
   "outputs": [
    {
     "name": "stdout",
     "output_type": "stream",
     "text": [
      "Output: $7252900\n"
     ]
    }
   ],
   "source": [
    "#15. What is the maximum household income among married applicants with more than one dependent?\n",
    "max_household_inc = df.loc[(df['Married'] == 'Yes') & (df['Dependents'] > 1)]['Household Income'].max()\n",
    "print(f\"Output: ${max_household_inc}\")"
   ]
  },
  {
   "cell_type": "code",
   "execution_count": 65,
   "id": "fa83b2aa-b23b-479d-b0fd-b0a07719fea4",
   "metadata": {},
   "outputs": [
    {
     "name": "stdout",
     "output_type": "stream",
     "text": [
      "Output: 3 Applicants\n"
     ]
    }
   ],
   "source": [
    "#16. How many applicants in semiurban areas, who are married and have no dependents, have been approved for a loan with a term less than 240 days?\n",
    "num_app = len(df.loc[(df['Area'] == 'Semiurban') & (df['Married'] == 'Yes') & (df['Dependents'] == 0) & (df['Approval Status'] == 'Yes')\n",
    "              & (df['Term'] < 240)])\n",
    "print(f\"Output: {num_app} Applicants\")"
   ]
  },
  {
   "cell_type": "code",
   "execution_count": 66,
   "id": "241c728b-bc8c-4b1f-83c7-0a5020d30a1c",
   "metadata": {},
   "outputs": [
    {
     "name": "stdout",
     "output_type": "stream",
     "text": [
      "Output: \n",
      "Gender  Education   \n",
      "Female  Graduate        621650.0\n",
      "Male    Graduate        691050.0\n",
      "        Not Graduate    558700.0\n",
      "Name: Household Income, dtype: float64\n"
     ]
    }
   ],
   "source": [
    "#17. Among self-employed applicants, what is the median household income for each combination of gender and education level?\n",
    "med_household_inc = df.loc[df['Self Employed'] == 'Yes'].groupby(['Gender', 'Education'])['Household Income'].median()\n",
    "print(f\"Output: \\n{med_household_inc}\")"
   ]
  },
  {
   "cell_type": "code",
   "execution_count": 67,
   "id": "486775f3-c510-4c32-a7eb-6d625973e747",
   "metadata": {},
   "outputs": [
    {
     "name": "stdout",
     "output_type": "stream",
     "text": [
      "Output: \n",
      "Gender  Education   \n",
      "Female  Graduate        1166600\n",
      "        Not Graduate     357500\n",
      "Male    Graduate        1450700\n",
      "        Not Graduate    1398300\n",
      "Name: Coapplicant Income, dtype: int64\n"
     ]
    }
   ],
   "source": [
    "#18. What is the maximum coapplicant income for each combination of gender and education level, among applicants with a credit history of 1.0 \n",
    "#    and household income greater than 500,000?\n",
    "max_coapp_inc = df.loc[(df['Credit History'] == 1.0) & (df['Household Income'] > 500000)].groupby(['Gender', 'Education'])['Coapplicant Income'].max()\n",
    "print(f\"Output: \\n{max_coapp_inc}\")"
   ]
  },
  {
   "cell_type": "markdown",
   "id": "c975878b-3dc4-43a9-a8b1-99c224895484",
   "metadata": {},
   "source": [
    "Filtering by Percentile"
   ]
  },
  {
   "cell_type": "code",
   "execution_count": 68,
   "id": "8231e690-053f-4986-8958-a048430db9f6",
   "metadata": {},
   "outputs": [
    {
     "name": "stdout",
     "output_type": "stream",
     "text": [
      "Output: 10 Individuals\n"
     ]
    }
   ],
   "source": [
    "#19. How many individuals have an 'Applicant Income' greater than the 75th percentile of 'Applicant Income' and a 'Coapplicant Income' \n",
    "#    greater than the 90th percentile of 'Coapplicant Income'?\n",
    "\n",
    "# Calculate Percentiles\n",
    "app_75 = df['Applicant Income'].quantile(q = 0.75)\n",
    "coapp_90 = df['Coapplicant Income'].quantile(q = 0.9)\n",
    "\n",
    "#Filter\n",
    "num_ind = len(df.loc[(df['Applicant Income'] > app_75) & (df['Coapplicant Income'] > coapp_90)])\n",
    "print(f\"Output: {num_ind} Individuals\")"
   ]
  },
  {
   "cell_type": "code",
   "execution_count": 69,
   "id": "e5757728-a687-40b5-8211-3e10f2fe5fb5",
   "metadata": {},
   "outputs": [
    {
     "name": "stdout",
     "output_type": "stream",
     "text": [
      "Output: 6 Individuals\n"
     ]
    }
   ],
   "source": [
    "#20. How many individuals have a 'Loan Amount' greater than the 90th percentile of 'Loan Amount' and a 'Term' of 360, \n",
    "#    and are self-employed?\n",
    "\n",
    "# Calculate Percentile\n",
    "loan_90 = df['Loan Amount'].quantile(q = 0.9)\n",
    "\n",
    "# Filter and Count\n",
    "num_ind = len(df.loc[(df['Loan Amount'] > loan_90) & (df['Term'] == 360.0) & (df['Self Employed'] == 'Yes')])\n",
    "print(f\"Output: {num_ind} Individuals\")"
   ]
  },
  {
   "cell_type": "code",
   "execution_count": 70,
   "id": "9bd3117d-ab65-4d8a-98d8-0c49673ffe66",
   "metadata": {},
   "outputs": [
    {
     "data": {
      "text/plain": [
       "Area\n",
       "Rural        21\n",
       "Semiurban    18\n",
       "Urban        25\n",
       "dtype: int64"
      ]
     },
     "execution_count": 70,
     "metadata": {},
     "output_type": "execute_result"
    }
   ],
   "source": [
    "#21. How many individuals in each 'Area' have a 'Term' less than the 25th percentile of 'Debt to Income Ratio' \n",
    "#    and an 'Approval Status' of 'Yes'?\n",
    "dti_25 = df['Debt to Income Ratio'].quantile(q = 0.25)\n",
    "\n",
    "df.loc[(df['Debt to Income Ratio'] < dti_25) & (df['Approval Status'] == 'Yes')].groupby('Area').size()"
   ]
  },
  {
   "cell_type": "markdown",
   "id": "cb4f6f8a-37f6-4ca3-8230-2f95541be96d",
   "metadata": {},
   "source": [
    "Grouping and Sorting"
   ]
  },
  {
   "cell_type": "code",
   "execution_count": 71,
   "id": "32a7c6c0-41f9-4862-beb4-53aaec18640e",
   "metadata": {},
   "outputs": [
    {
     "name": "stdout",
     "output_type": "stream",
     "text": [
      "Output: $Education\n",
      "Graduate        283846.153846\n",
      "Not Graduate    228857.142857\n",
      "Name: Loan Amount, dtype: float64\n"
     ]
    }
   ],
   "source": [
    "#22. What is the average 'Loan Amount' for individuals who are self-employed and have a 'Credit History' of 1.0, grouped by their 'Education' level?\n",
    "avg_loan_amount = df.loc[(df['Self Employed'] == 'Yes') & (df['Credit History'] == 1.0)].groupby('Education')['Loan Amount'].mean()\n",
    "print(f\"Output: ${avg_loan_amount}\")"
   ]
  },
  {
   "cell_type": "code",
   "execution_count": 72,
   "id": "88cf81f0-401c-4aac-a962-9de90829ca26",
   "metadata": {},
   "outputs": [
    {
     "name": "stdout",
     "output_type": "stream",
     "text": [
      "    Gender Married  Dependents     Education Self Employed  Applicant Income   \n",
      "325   Male      No         0.0      Graduate            No            287500  \\\n",
      "144   Male     Yes         2.0      Graduate           Yes           1089000   \n",
      "216   Male     Yes         0.0  Not Graduate            No            274700   \n",
      "\n",
      "     Coapplicant Income  Loan Amount  Term  Credit History       Area   \n",
      "325              241600       190000   6.0             0.0  Semiurban  \\\n",
      "144                   0       520000  12.0             1.0      Rural   \n",
      "216              245800       236000  36.0             1.0  Semiurban   \n",
      "\n",
      "     Household Income  Total Yearly Debt  Debt to Income Ratio Risk Level   \n",
      "325            529100      380000.000000              0.718201       High  \\\n",
      "144           1089000      520000.000000              0.477502       High   \n",
      "216            520500       78666.666667              0.151137     Medium   \n",
      "\n",
      "    Approval Status  \n",
      "325              No  \n",
      "144              No  \n",
      "216             Yes  \n"
     ]
    }
   ],
   "source": [
    "#23. Can you provide the top 3 records with the highest 'Debt to Income Ratio' , sorted in descending order?\n",
    "dti_sorted = df.sort_values('Debt to Income Ratio', ascending = False)\n",
    "dti_top_3 = dti_sorted.head(3)\n",
    "print(dti_top_3)"
   ]
  },
  {
   "cell_type": "code",
   "execution_count": 73,
   "id": "6e96fc74-7de1-4096-81a5-db8d0d4fb400",
   "metadata": {},
   "outputs": [
    {
     "name": "stdout",
     "output_type": "stream",
     "text": [
      "Output: \n",
      "Area\n",
      "Rural        547400.0\n",
      "Urban        529850.0\n",
      "Semiurban    487550.0\n",
      "Name: Household Income, dtype: float64\n"
     ]
    }
   ],
   "source": [
    "#24. What is the median household income for each area, sorted in descending order?\n",
    "med_household_inc_by_area = df.groupby('Area')['Household Income'].median().sort_values(ascending = False)\n",
    "print(f\"Output: \\n{med_household_inc_by_area}\")"
   ]
  },
  {
   "cell_type": "code",
   "execution_count": 74,
   "id": "d56a54b1-094a-4aa2-b7d1-fd4878d36d14",
   "metadata": {},
   "outputs": [
    {
     "name": "stdout",
     "output_type": "stream",
     "text": [
      "Output: \n",
      "Gender  Education     Credit History\n",
      "Female  Graduate      0.0               200000.0\n",
      "        Not Graduate  0.0               170000.0\n",
      "Male    Graduate      0.0               140850.0\n",
      "        Not Graduate  1.0               135000.0\n",
      "        Graduate      1.0               134050.0\n",
      "        Not Graduate  0.0                52800.0\n",
      "Female  Graduate      1.0                    0.0\n",
      "        Not Graduate  1.0                    0.0\n",
      "Name: Coapplicant Income, dtype: float64\n"
     ]
    }
   ],
   "source": [
    "#25. What is the median coapplicant income for each combination of gender, education level, and credit history category, sorted in \n",
    "#    descending order of median coapplicant income?\n",
    "med_coapp_inc = df.groupby(['Gender', 'Education', 'Credit History'])['Coapplicant Income'].median().sort_values(ascending = False)\n",
    "print(f\"Output: \\n{med_coapp_inc}\")"
   ]
  },
  {
   "cell_type": "code",
   "execution_count": 75,
   "id": "d794cf24-45d0-4f11-8538-0cfab3b48b9a",
   "metadata": {},
   "outputs": [
    {
     "name": "stdout",
     "output_type": "stream",
     "text": [
      "Output: \n",
      "Gender  Education     Self Employed\n",
      "Female  Graduate      No               248448.979592\n",
      "                      Yes              342000.000000\n",
      "        Not Graduate  No               229000.000000\n",
      "Male    Graduate      No               280340.659341\n",
      "                      Yes              311250.000000\n",
      "        Not Graduate  No               228867.924528\n",
      "                      Yes              266285.714286\n",
      "Name: Loan Amount, dtype: float64\n"
     ]
    }
   ],
   "source": [
    "#26. What is the average loan amount for each combination of gender, education level, and self-employed status?\n",
    "avg_loan_amount = df.groupby(['Gender', 'Education', 'Self Employed'])['Loan Amount'].mean()\n",
    "print(f\"Output: \\n{avg_loan_amount}\")"
   ]
  },
  {
   "cell_type": "code",
   "execution_count": 76,
   "id": "ec903d9c-b20a-46e7-a9cc-470ff6545ce8",
   "metadata": {},
   "outputs": [
    {
     "name": "stdout",
     "output_type": "stream",
     "text": [
      "Output: \n",
      "Risk Level  Education   \n",
      "High        Graduate        24566.666667\n",
      "            Not Graduate    13266.666667\n",
      "Medium      Graduate        10000.000000\n",
      "            Not Graduate     7533.333333\n",
      "Name: Total Yearly Debt, dtype: float64\n"
     ]
    }
   ],
   "source": [
    "#27. Among individuals with 'Self Employed' status, what is the median 'Total Yearly Debt' for each 'Risk Level', \n",
    "#    grouped by 'Education'?\n",
    "self_emp_ind = df.loc[df['Self Employed'] == 'Yes'].groupby(['Risk Level', 'Education'])['Total Yearly Debt'].median()\n",
    "print(f\"Output: \\n{self_emp_ind}\")"
   ]
  },
  {
   "cell_type": "code",
   "execution_count": 77,
   "id": "35ed85c6-2cb3-405c-97d7-35172a4917a9",
   "metadata": {},
   "outputs": [
    {
     "name": "stdout",
     "output_type": "stream",
     "text": [
      "Output: \n",
      "Education\n",
      "Graduate        0.021600\n",
      "Not Graduate    0.020416\n",
      "Name: Debt to Income Ratio, dtype: float64\n"
     ]
    }
   ],
   "source": [
    "#28. What is the average debt-to-income ratio for individuals grouped by their 'Education' level?\n",
    "dti_by_ed = df.groupby('Education')['Debt to Income Ratio'].mean()\n",
    "print(f\"Output: \\n{dti_by_ed}\")"
   ]
  },
  {
   "cell_type": "code",
   "execution_count": 78,
   "id": "626a755b-c6c9-4dfd-81b4-c2e906995cbf",
   "metadata": {},
   "outputs": [
    {
     "name": "stdout",
     "output_type": "stream",
     "text": [
      "Output: \n",
      "Gender\n",
      "Female    2\n",
      "Male      4\n",
      "dtype: int64\n"
     ]
    }
   ],
   "source": [
    "#29. How many individuals with a debt-to-income ratio above 0.05 have been approved for a loan \n",
    "#    ('Approval Status' = 'Yes'), grouped by their 'Gender'?\n",
    "num_ind = df.loc[(df['Debt to Income Ratio'] > 0.05) & (df['Approval Status'] == 'Yes')].groupby('Gender').size()\n",
    "print(f\"Output: \\n{num_ind}\")"
   ]
  },
  {
   "cell_type": "code",
   "execution_count": 79,
   "id": "1c7a5805-39d2-459c-af05-afbc30bd4954",
   "metadata": {},
   "outputs": [
    {
     "name": "stdout",
     "output_type": "stream",
     "text": [
      "Output: \n",
      "Dependents\n",
      "0.0    0.015150\n",
      "1.0    0.015223\n",
      "2.0    0.016800\n",
      "3.0    0.013020\n",
      "4.0    0.015111\n",
      "Name: Debt to Income Ratio, dtype: float64\n"
     ]
    }
   ],
   "source": [
    "#30. Among individuals with 'Self Employed' status, what is the median debt-to-income ratio for each \n",
    "#   'Dependents' category?\n",
    "med_dti = df.loc[df['Self Employed'] == 'Yes'].groupby('Dependents')['Debt to Income Ratio'].median()\n",
    "print(f\"Output: \\n{med_dti}\")"
   ]
  }
 ],
 "metadata": {
  "kernelspec": {
   "display_name": "Python 3 (ipykernel)",
   "language": "python",
   "name": "python3"
  },
  "language_info": {
   "codemirror_mode": {
    "name": "ipython",
    "version": 3
   },
   "file_extension": ".py",
   "mimetype": "text/x-python",
   "name": "python",
   "nbconvert_exporter": "python",
   "pygments_lexer": "ipython3",
   "version": "3.10.8"
  }
 },
 "nbformat": 4,
 "nbformat_minor": 5
}
